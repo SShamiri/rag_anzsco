{
 "cells": [
  {
   "cell_type": "code",
   "execution_count": 1,
   "id": "8f2d67ab",
   "metadata": {},
   "outputs": [],
   "source": [
    "import pandas as pd"
   ]
  },
  {
   "cell_type": "code",
   "execution_count": 1,
   "id": "bafa7bf5",
   "metadata": {},
   "outputs": [],
   "source": [
    "# tmp = pd.read_csv(\"./data/anzsco_full.csv\")  # from your earlier flattening step\n",
    "# print(tmp.head())"
   ]
  },
  {
   "cell_type": "code",
   "execution_count": 2,
   "id": "e2d0bb98",
   "metadata": {},
   "outputs": [],
   "source": [
    "from utils.crawl_anzsco import extract_anzsco_info"
   ]
  },
  {
   "cell_type": "code",
   "execution_count": null,
   "id": "7f6e4641",
   "metadata": {},
   "outputs": [],
   "source": []
  }
 ],
 "metadata": {
  "kernelspec": {
   "display_name": ".venv",
   "language": "python",
   "name": "python3"
  },
  "language_info": {
   "codemirror_mode": {
    "name": "ipython",
    "version": 3
   },
   "file_extension": ".py",
   "mimetype": "text/x-python",
   "name": "python",
   "nbconvert_exporter": "python",
   "pygments_lexer": "ipython3",
   "version": "3.9.12"
  }
 },
 "nbformat": 4,
 "nbformat_minor": 5
}
