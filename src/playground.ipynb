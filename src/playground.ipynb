{
 "cells": [
  {
   "cell_type": "code",
   "execution_count": 22,
   "id": "60b1a6e7",
   "metadata": {},
   "outputs": [],
   "source": [
    "import streamlit as st\n",
    "import faiss\n",
    "import json \n",
    "import numpy as np\n",
    "import pandas as pd\n",
    "from utils.rag_utils import get_ollama_embedding, ollama_chat_stream"
   ]
  },
  {
   "cell_type": "code",
   "execution_count": 23,
   "id": "25230357",
   "metadata": {},
   "outputs": [],
   "source": [
    "# Load persisted assets\n",
    "embeddings = np.load(\"../db/anzsco_embeddings.npy\")\n",
    "index = faiss.read_index(\"../db/anzsco.index\")\n",
    "\n",
    "with open(\"../db/anzsco_meta.json\", \"r\", encoding=\"utf-8\") as f:\n",
    "    id_to_meta = json.load(f)"
   ]
  },
  {
   "cell_type": "code",
   "execution_count": 37,
   "id": "4a335f26",
   "metadata": {},
   "outputs": [],
   "source": [
    "# Retrieval function\n",
    "def retrieve(query, k=5):\n",
    "    q_emb = np.array([get_ollama_embedding(query)]).astype(\"float32\")\n",
    "    D, I = index.search(q_emb, k)\n",
    "    return [id_to_meta[i] for i in I[0]]"
   ]
  },
  {
   "cell_type": "code",
   "execution_count": 33,
   "id": "c2ecaf2f",
   "metadata": {},
   "outputs": [],
   "source": [
    "q = \"Managers skill level\"\n",
    "\n",
    "bb = np.array([get_ollama_embedding(q)]).astype(\"float32\")\n",
    "\n",
    "w = index.search(bb, 5)\n"
   ]
  },
  {
   "cell_type": "code",
   "execution_count": 34,
   "id": "24212bb7",
   "metadata": {},
   "outputs": [
    {
     "data": {
      "text/plain": [
       "(array([[184.95383, 219.85341, 225.56136, 228.9927 , 230.85936]],\n",
       "       dtype=float32),\n",
       " array([[  0,  39,  13,  50, 341]]))"
      ]
     },
     "execution_count": 34,
     "metadata": {},
     "output_type": "execute_result"
    }
   ],
   "source": [
    "w"
   ]
  },
  {
   "cell_type": "code",
   "execution_count": 39,
   "id": "87cc3c10",
   "metadata": {},
   "outputs": [
    {
     "data": {
      "text/plain": [
       "{'Skill Level': 'Most occupations in this sub-major group have a level of skill commensurate with a bachelor degree or higher qualification. At least five years of relevant experience may substitute for the formal qualification. In some instances relevant experience and/or on-the-job training may be required in addition to the formal qualification (ANZSCO Skill Level 1).Tasks Include:determining and setting the overall direction and objectives of organisationsdetermining and formulating policies, rules and regulations to govern the overall operations of organisationsdirecting and controlling the overall operations of organisations to ensure objectives are metmonitoring and evaluating the overall performance of organisations and adjusting policies, rules and regulations to ensure objectives are metrepresenting the organisation at official occasions, in negotiations, at conventions, seminars, public hearings and forums, and liaising between areas of responsibilitydetermining, planning and formulating government policies, laws, rules and regulationsinvestigating matters of concern to the public and electorate, and proposing government action',\n",
       " 'Tasks': 'determining and setting the overall direction and objectives of organisations; determining and formulating policies, rules and regulations to govern the overall operations of organisations; directing and controlling the overall operations of organisations to ensure objectives are met; monitoring and evaluating the overall performance of organisations and adjusting policies, rules and regulations to ensure objectives are met; representing the organisation at official occasions, in negotiations, at conventions, seminars, public hearings and forums, and liaising between areas of responsibility; determining, planning and formulating government policies, laws, rules and regulations; investigating matters of concern to the public and electorate, and proposing government action',\n",
       " 'Path': 'Managers > Chief Executives, General Managers and Legislators',\n",
       " 'Occupation Code': 11,\n",
       " 'Occupation Name': 'Chief Executives, General Managers and Legislators',\n",
       " 'National Shortage Rating': nan,\n",
       " 'doc_text': 'Chief Executives, General Managers and Legislators\\nMost occupations in this sub-major group have a level of skill commensurate with a bachelor degree or higher qualification. At least five years of relevant experience may substitute for the formal qualification. In some instances relevant experience and/or on-the-job training may be required in addition to the formal qualification (ANZSCO Skill Level 1).Tasks Include:determining and setting the overall direction and objectives of organisationsdetermining and formulating policies, rules and regulations to govern the overall operations of organisationsdirecting and controlling the overall operations of organisations to ensure objectives are metmonitoring and evaluating the overall performance of organisations and adjusting policies, rules and regulations to ensure objectives are metrepresenting the organisation at official occasions, in negotiations, at conventions, seminars, public hearings and forums, and liaising between areas of responsibilitydetermining, planning and formulating government policies, laws, rules and regulationsinvestigating matters of concern to the public and electorate, and proposing government action\\ndetermining and setting the overall direction and objectives of organisations; determining and formulating policies, rules and regulations to govern the overall operations of organisations; directing and controlling the overall operations of organisations to ensure objectives are met; monitoring and evaluating the overall performance of organisations and adjusting policies, rules and regulations to ensure objectives are met; representing the organisation at official occasions, in negotiations, at conventions, seminars, public hearings and forums, and liaising between areas of responsibility; determining, planning and formulating government policies, laws, rules and regulations; investigating matters of concern to the public and electorate, and proposing government action\\nPath: Managers > Chief Executives, General Managers and Legislators\\nIn shortage: '}"
      ]
     },
     "execution_count": 39,
     "metadata": {},
     "output_type": "execute_result"
    }
   ],
   "source": [
    "id_to_meta[1]"
   ]
  },
  {
   "cell_type": "code",
   "execution_count": 49,
   "id": "210ff2e5",
   "metadata": {},
   "outputs": [],
   "source": [
    "\n",
    "user_query = \"What tasks for Manager?\"\n",
    "retrieved = retrieve(user_query) # give wrong answer\n",
    "\n"
   ]
  },
  {
   "cell_type": "code",
   "execution_count": 50,
   "id": "b510bf78",
   "metadata": {},
   "outputs": [],
   "source": [
    "context = \"\\n\\n\".join([r['doc_text'] for r in retrieved])\n"
   ]
  },
  {
   "cell_type": "code",
   "execution_count": 51,
   "id": "f3dbe654",
   "metadata": {},
   "outputs": [],
   "source": [
    "prompt = f\"\"\"You are a helpful assistant that answers questions based on the provided context.\n",
    "   Use only the information from the context to answer questions. If you're unsure or the context\n",
    "   doesn't contain the relevant information, say so.\n",
    "   \n",
    "   Context:{context}\n",
    "   Question: {user_query}\n",
    "   Answer:\n",
    "   \"\"\"\n",
    "messages_with_context = [{\"role\": \"system\", \"content\": prompt}]"
   ]
  },
  {
   "cell_type": "code",
   "execution_count": 53,
   "id": "6b562297",
   "metadata": {},
   "outputs": [],
   "source": [
    "response = ollama_chat_stream(messages_with_context, model=\"llama3\")"
   ]
  },
  {
   "cell_type": "code",
   "execution_count": 58,
   "id": "f679888f",
   "metadata": {},
   "outputs": [],
   "source": [
    "from ollama import Client\n",
    "\n",
    "# 3. Setup Ollama client\n",
    "ollama_client = Client()\n",
    "model_name = \"llama3\"  # or any model you've pulled locally via Ollama"
   ]
  },
  {
   "cell_type": "code",
   "execution_count": 59,
   "id": "a613931c",
   "metadata": {},
   "outputs": [],
   "source": [
    "response = ollama_client.chat(model=model_name, messages=messages_with_context)\n"
   ]
  },
  {
   "cell_type": "code",
   "execution_count": 60,
   "id": "870aeac9",
   "metadata": {},
   "outputs": [],
   "source": [
    "content=response['message']['content']"
   ]
  },
  {
   "cell_type": "code",
   "execution_count": 61,
   "id": "e94a8157",
   "metadata": {},
   "outputs": [
    {
     "data": {
      "text/plain": [
       "'According to the provided context, Specialist Managers are responsible for:\\n\\n* Developing, implementing and monitoring strategies, policies and plans for their area of control\\n* Establishing and directing operational and administrative procedures\\n* Directing and coordinating the allocation of resources\\n* Monitoring work progress and performance, and adjusting processes and resources to keep goals on track\\n* Controlling budget planning and report preparation, and monitoring and controlling expenditure for their area of control\\n* Controlling selection, training and performance of staff\\n* Representing the organisation in negotiations, and at conventions, seminars, public hearings and forums\\n\\nThese tasks are applicable to Specialist Managers, which is a minor group under the broader category of Managers.'"
      ]
     },
     "execution_count": 61,
     "metadata": {},
     "output_type": "execute_result"
    }
   ],
   "source": [
    "content\n",
    "        "
   ]
  },
  {
   "cell_type": "code",
   "execution_count": 26,
   "id": "e0a3b7f8",
   "metadata": {},
   "outputs": [
    {
     "name": "stdout",
     "output_type": "stream",
     "text": [
      "[{'Skill Level': 'Most occupations in this sub-major group have a level of skill commensurate with a bachelor degree or higher qualification. At least five years of relevant experience may substitute for the formal qualification. In some instances relevant experience and/or on-the-job training may be required in addition to the formal qualification (ANZSCO Skill Level 1).Tasks Include:developing, implementing and monitoring strategies, policies and plans for their area of controlestablishing and directing operational and administrative proceduresdirecting and coordinating the allocation of resourcesmonitoring work progress and performance, and adjusting processes and resources to keep goals on trackcontrolling budget planning and report preparation, and monitoring and controlling expenditure for their area of controlcontrolling selection, training and performance of staffrepresenting the organisation in negotiations, and at conventions, seminars, public hearings and forums', 'Tasks': 'developing, implementing and monitoring strategies, policies and plans for their area of control; establishing and directing operational and administrative procedures; directing and coordinating the allocation of resources; monitoring work progress and performance, and adjusting processes and resources to keep goals on track; controlling budget planning and report preparation, and monitoring and controlling expenditure for their area of control; controlling selection, training and performance of staff; representing the organisation in negotiations, and at conventions, seminars, public hearings and forums', 'Path': 'Managers > Specialist Managers', 'Occupation Code': 13, 'Occupation Name': 'Specialist Managers', 'National Shortage Rating': nan, 'doc_text': 'Specialist Managers\\nMost occupations in this sub-major group have a level of skill commensurate with a bachelor degree or higher qualification. At least five years of relevant experience may substitute for the formal qualification. In some instances relevant experience and/or on-the-job training may be required in addition to the formal qualification (ANZSCO Skill Level 1).Tasks Include:developing, implementing and monitoring strategies, policies and plans for their area of controlestablishing and directing operational and administrative proceduresdirecting and coordinating the allocation of resourcesmonitoring work progress and performance, and adjusting processes and resources to keep goals on trackcontrolling budget planning and report preparation, and monitoring and controlling expenditure for their area of controlcontrolling selection, training and performance of staffrepresenting the organisation in negotiations, and at conventions, seminars, public hearings and forums\\ndeveloping, implementing and monitoring strategies, policies and plans for their area of control; establishing and directing operational and administrative procedures; directing and coordinating the allocation of resources; monitoring work progress and performance, and adjusting processes and resources to keep goals on track; controlling budget planning and report preparation, and monitoring and controlling expenditure for their area of control; controlling selection, training and performance of staff; representing the organisation in negotiations, and at conventions, seminars, public hearings and forums\\nPath: Managers > Specialist Managers\\nIn shortage: '}, {'Skill Level': 'Most occupations in this minor group have a level of skill commensurate with a bachelor degree or higher qualification. At least five years of relevant experience may substitute for the formal qualification. In some instances relevant experience and/or on-the-job training may be required in addition to the formal qualification (ANZSCO Skill Level 1).Tasks Include:determining and setting the overall direction and objectives of organisationsdetermining and formulating policies, rules and regulations to govern the overall operations of organisationsdirecting and controlling the overall operations of organisations to ensure objectives are metmonitoring and evaluating the overall performance of organisations and adjusting policies, rules and regulations to ensure objectives are metrepresenting the organisation at official occasions, in negotiations, at conventions, seminars, public hearings and forums, and liaising between areas of responsibilitydetermining, planning and formulating government policies, laws, rules and regulationsinvestigating matters of concern to the public and electorate, and proposing government action', 'Tasks': 'determining and setting the overall direction and objectives of organisations; determining and formulating policies, rules and regulations to govern the overall operations of organisations; directing and controlling the overall operations of organisations to ensure objectives are met; monitoring and evaluating the overall performance of organisations and adjusting policies, rules and regulations to ensure objectives are met; representing the organisation at official occasions, in negotiations, at conventions, seminars, public hearings and forums, and liaising between areas of responsibility; determining, planning and formulating government policies, laws, rules and regulations; investigating matters of concern to the public and electorate, and proposing government action', 'Path': 'Managers > Chief Executives, General Managers and Legislators', 'Occupation Code': 111, 'Occupation Name': 'Chief Executives, General Managers and Legislators', 'National Shortage Rating': nan, 'doc_text': 'Chief Executives, General Managers and Legislators\\nMost occupations in this minor group have a level of skill commensurate with a bachelor degree or higher qualification. At least five years of relevant experience may substitute for the formal qualification. In some instances relevant experience and/or on-the-job training may be required in addition to the formal qualification (ANZSCO Skill Level 1).Tasks Include:determining and setting the overall direction and objectives of organisationsdetermining and formulating policies, rules and regulations to govern the overall operations of organisationsdirecting and controlling the overall operations of organisations to ensure objectives are metmonitoring and evaluating the overall performance of organisations and adjusting policies, rules and regulations to ensure objectives are metrepresenting the organisation at official occasions, in negotiations, at conventions, seminars, public hearings and forums, and liaising between areas of responsibilitydetermining, planning and formulating government policies, laws, rules and regulationsinvestigating matters of concern to the public and electorate, and proposing government action\\ndetermining and setting the overall direction and objectives of organisations; determining and formulating policies, rules and regulations to govern the overall operations of organisations; directing and controlling the overall operations of organisations to ensure objectives are met; monitoring and evaluating the overall performance of organisations and adjusting policies, rules and regulations to ensure objectives are met; representing the organisation at official occasions, in negotiations, at conventions, seminars, public hearings and forums, and liaising between areas of responsibility; determining, planning and formulating government policies, laws, rules and regulations; investigating matters of concern to the public and electorate, and proposing government action\\nPath: Managers > Chief Executives, General Managers and Legislators\\nIn shortage: '}, {'Skill Level': 'Most occupations in this minor group have a level of skill commensurate with a bachelor degree or higher qualification. At least five years of relevant experience may substitute for the formal qualification. In some instances relevant experience and/or on-the-job training may be required in addition to the formal qualification (ANZSCO Skill Level 1).Tasks Include:identifying business opportunities, and developing and implementing business plans and marketing, operating, human resource, pricing and credit policies and proceduresestablishing project schedules and budgetscoordinating labour resources and procurement and delivery of materials, plant and equipmentnegotiating contracts with suppliers and customers to meet resource, cost and quality requirementsmonitoring costs and work progress and performance, and adjusting processes and resources to ensure goals are metdirecting the preparation of production records and reports', 'Tasks': 'identifying business opportunities, and developing and implementing business plans and marketing, operating, human resource, pricing and credit policies and procedures; establishing project schedules and budgets; coordinating labour resources and procurement and delivery of materials, plant and equipment; negotiating contracts with suppliers and customers to meet resource, cost and quality requirements; monitoring costs and work progress and performance, and adjusting processes and resources to ensure goals are met; directing the preparation of production records and reports', 'Path': 'Managers > Specialist Managers > Construction, Distribution and Production Managers', 'Occupation Code': 133, 'Occupation Name': 'Construction, Distribution and Production Managers', 'National Shortage Rating': nan, 'doc_text': 'Construction, Distribution and Production Managers\\nMost occupations in this minor group have a level of skill commensurate with a bachelor degree or higher qualification. At least five years of relevant experience may substitute for the formal qualification. In some instances relevant experience and/or on-the-job training may be required in addition to the formal qualification (ANZSCO Skill Level 1).Tasks Include:identifying business opportunities, and developing and implementing business plans and marketing, operating, human resource, pricing and credit policies and proceduresestablishing project schedules and budgetscoordinating labour resources and procurement and delivery of materials, plant and equipmentnegotiating contracts with suppliers and customers to meet resource, cost and quality requirementsmonitoring costs and work progress and performance, and adjusting processes and resources to ensure goals are metdirecting the preparation of production records and reports\\nidentifying business opportunities, and developing and implementing business plans and marketing, operating, human resource, pricing and credit policies and procedures; establishing project schedules and budgets; coordinating labour resources and procurement and delivery of materials, plant and equipment; negotiating contracts with suppliers and customers to meet resource, cost and quality requirements; monitoring costs and work progress and performance, and adjusting processes and resources to ensure goals are met; directing the preparation of production records and reports\\nPath: Managers > Specialist Managers > Construction, Distribution and Production Managers\\nIn shortage: '}, {'Skill Level': 'Most occupations in this minor group have a level of skill commensurate with a bachelor degree or higher qualification. At least five years of relevant experience may substitute for the formal qualification. In some instances relevant experience and/or on-the-job training may be required in addition to the formal qualification (ANZSCO Skill Level 1).Tasks Include:formulating and administering policy advice and strategic planningestablishing and directing operational and administrative proceduresimplementing, monitoring and evaluating budgetary and accounting strategies and policiesproviding advice to senior Managers and board members on strategic, policy and program and legislative issuesensuring compliance with relevant legislation, regulations and standardscontrolling selection, training and performance of staffrepresenting the organisation in negotiations, and at conventions, seminars, public hearings and forums', 'Tasks': 'formulating and administering policy advice and strategic planning; establishing and directing operational and administrative procedures; implementing, monitoring and evaluating budgetary and accounting strategies and policies; providing advice to senior Managers and board members on strategic, policy and program and legislative issues; ensuring compliance with relevant legislation, regulations and standards; controlling selection, training and performance of staff; representing the organisation in negotiations, and at conventions, seminars, public hearings and forums', 'Path': 'Managers > Specialist Managers > Business Administration Managers', 'Occupation Code': 132, 'Occupation Name': 'Business Administration Managers', 'National Shortage Rating': nan, 'doc_text': 'Business Administration Managers\\nMost occupations in this minor group have a level of skill commensurate with a bachelor degree or higher qualification. At least five years of relevant experience may substitute for the formal qualification. In some instances relevant experience and/or on-the-job training may be required in addition to the formal qualification (ANZSCO Skill Level 1).Tasks Include:formulating and administering policy advice and strategic planningestablishing and directing operational and administrative proceduresimplementing, monitoring and evaluating budgetary and accounting strategies and policiesproviding advice to senior Managers and board members on strategic, policy and program and legislative issuesensuring compliance with relevant legislation, regulations and standardscontrolling selection, training and performance of staffrepresenting the organisation in negotiations, and at conventions, seminars, public hearings and forums\\nformulating and administering policy advice and strategic planning; establishing and directing operational and administrative procedures; implementing, monitoring and evaluating budgetary and accounting strategies and policies; providing advice to senior Managers and board members on strategic, policy and program and legislative issues; ensuring compliance with relevant legislation, regulations and standards; controlling selection, training and performance of staff; representing the organisation in negotiations, and at conventions, seminars, public hearings and forums\\nPath: Managers > Specialist Managers > Business Administration Managers\\nIn shortage: '}, {'Skill Level': 'Most occupations in this sub-major group have a level of skill commensurate with a bachelor degree or higher qualification. At least five years of relevant experience may substitute for the formal qualification. In some instances relevant experience and/or on-the-job training may be required in addition to the formal qualification (ANZSCO Skill Level 1).Tasks Include:determining and setting the overall direction and objectives of organisationsdetermining and formulating policies, rules and regulations to govern the overall operations of organisationsdirecting and controlling the overall operations of organisations to ensure objectives are metmonitoring and evaluating the overall performance of organisations and adjusting policies, rules and regulations to ensure objectives are metrepresenting the organisation at official occasions, in negotiations, at conventions, seminars, public hearings and forums, and liaising between areas of responsibilitydetermining, planning and formulating government policies, laws, rules and regulationsinvestigating matters of concern to the public and electorate, and proposing government action', 'Tasks': 'determining and setting the overall direction and objectives of organisations; determining and formulating policies, rules and regulations to govern the overall operations of organisations; directing and controlling the overall operations of organisations to ensure objectives are met; monitoring and evaluating the overall performance of organisations and adjusting policies, rules and regulations to ensure objectives are met; representing the organisation at official occasions, in negotiations, at conventions, seminars, public hearings and forums, and liaising between areas of responsibility; determining, planning and formulating government policies, laws, rules and regulations; investigating matters of concern to the public and electorate, and proposing government action', 'Path': 'Managers > Chief Executives, General Managers and Legislators', 'Occupation Code': 11, 'Occupation Name': 'Chief Executives, General Managers and Legislators', 'National Shortage Rating': nan, 'doc_text': 'Chief Executives, General Managers and Legislators\\nMost occupations in this sub-major group have a level of skill commensurate with a bachelor degree or higher qualification. At least five years of relevant experience may substitute for the formal qualification. In some instances relevant experience and/or on-the-job training may be required in addition to the formal qualification (ANZSCO Skill Level 1).Tasks Include:determining and setting the overall direction and objectives of organisationsdetermining and formulating policies, rules and regulations to govern the overall operations of organisationsdirecting and controlling the overall operations of organisations to ensure objectives are metmonitoring and evaluating the overall performance of organisations and adjusting policies, rules and regulations to ensure objectives are metrepresenting the organisation at official occasions, in negotiations, at conventions, seminars, public hearings and forums, and liaising between areas of responsibilitydetermining, planning and formulating government policies, laws, rules and regulationsinvestigating matters of concern to the public and electorate, and proposing government action\\ndetermining and setting the overall direction and objectives of organisations; determining and formulating policies, rules and regulations to govern the overall operations of organisations; directing and controlling the overall operations of organisations to ensure objectives are met; monitoring and evaluating the overall performance of organisations and adjusting policies, rules and regulations to ensure objectives are met; representing the organisation at official occasions, in negotiations, at conventions, seminars, public hearings and forums, and liaising between areas of responsibility; determining, planning and formulating government policies, laws, rules and regulations; investigating matters of concern to the public and electorate, and proposing government action\\nPath: Managers > Chief Executives, General Managers and Legislators\\nIn shortage: '}]\n"
     ]
    }
   ],
   "source": [
    "print(retrieved)"
   ]
  },
  {
   "cell_type": "code",
   "execution_count": null,
   "id": "aa1d5892",
   "metadata": {},
   "outputs": [],
   "source": []
  },
  {
   "cell_type": "code",
   "execution_count": null,
   "id": "7ef76f6a",
   "metadata": {},
   "outputs": [],
   "source": []
  }
 ],
 "metadata": {
  "kernelspec": {
   "display_name": ".venv",
   "language": "python",
   "name": "python3"
  },
  "language_info": {
   "codemirror_mode": {
    "name": "ipython",
    "version": 3
   },
   "file_extension": ".py",
   "mimetype": "text/x-python",
   "name": "python",
   "nbconvert_exporter": "python",
   "pygments_lexer": "ipython3",
   "version": "3.9.12"
  }
 },
 "nbformat": 4,
 "nbformat_minor": 5
}
