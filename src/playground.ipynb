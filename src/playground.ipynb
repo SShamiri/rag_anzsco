{
 "cells": [
  {
   "cell_type": "code",
   "execution_count": null,
   "id": "60b1a6e7",
   "metadata": {},
   "outputs": [],
   "source": [
    "import streamlit as st\n",
    "import faiss\n",
    "import json \n",
    "import numpy as np\n",
    "import pandas as pd\n",
    "from utils.rag_utils import get_ollama_embedding, ollama_chat_stream"
   ]
  },
  {
   "cell_type": "code",
   "execution_count": null,
   "id": "25230357",
   "metadata": {},
   "outputs": [],
   "source": []
  }
 ],
 "metadata": {
  "kernelspec": {
   "display_name": ".venv",
   "language": "python",
   "name": "python3"
  },
  "language_info": {
   "codemirror_mode": {
    "name": "ipython",
    "version": 3
   },
   "file_extension": ".py",
   "mimetype": "text/x-python",
   "name": "python",
   "nbconvert_exporter": "python",
   "pygments_lexer": "ipython3",
   "version": "3.9.12"
  }
 },
 "nbformat": 4,
 "nbformat_minor": 5
}
