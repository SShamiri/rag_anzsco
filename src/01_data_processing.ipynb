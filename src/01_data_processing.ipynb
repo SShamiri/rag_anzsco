{
 "cells": [
  {
   "cell_type": "code",
   "execution_count": 3,
   "id": "c931647b",
   "metadata": {},
   "outputs": [],
   "source": [
    "import os\n",
    "import pandas as pd\n",
    "import sys\n",
    "\n",
    "from utils.crawl_anzsco import extract_anzsco_info, crawl_anzsco, flatten_tree"
   ]
  },
  {
   "cell_type": "code",
   "execution_count": null,
   "id": "1d055f6b",
   "metadata": {},
   "outputs": [],
   "source": [
    "# import module from utils directory\n",
    "# use init.py to make it a package in the future\n",
    "# # ------------------------------------------------------------\n",
    "# # caution: path[0] is reserved for script path (or '' in REPL)\n",
    "# sys.path.insert(1, '/Users/samuelshamiri/projects/rag_anzsco/utils')\n",
    "\n",
    "# from crawl_anzsco import extract_anzsco_info, crawl_anzsco, flatten_tree"
   ]
  },
  {
   "cell_type": "code",
   "execution_count": null,
   "id": "dea5c0df",
   "metadata": {},
   "outputs": [
    {
     "name": "stdout",
     "output_type": "stream",
     "text": [
      "Crawling https://www.abs.gov.au/statistics/classifications/anzsco-australian-and-new-zealand-standard-classification-occupations/2022/browse-classification/1 ...\n",
      "Crawling https://www.abs.gov.au/statistics/classifications/anzsco-australian-and-new-zealand-standard-classification-occupations/2022/browse-classification/2 ...\n",
      "Crawling https://www.abs.gov.au/statistics/classifications/anzsco-australian-and-new-zealand-standard-classification-occupations/2022/browse-classification/3 ...\n",
      "Crawling https://www.abs.gov.au/statistics/classifications/anzsco-australian-and-new-zealand-standard-classification-occupations/2022/browse-classification/4 ...\n",
      "Crawling https://www.abs.gov.au/statistics/classifications/anzsco-australian-and-new-zealand-standard-classification-occupations/2022/browse-classification/5 ...\n",
      "Crawling https://www.abs.gov.au/statistics/classifications/anzsco-australian-and-new-zealand-standard-classification-occupations/2022/browse-classification/6 ...\n",
      "Crawling https://www.abs.gov.au/statistics/classifications/anzsco-australian-and-new-zealand-standard-classification-occupations/2022/browse-classification/7 ...\n",
      "Crawling https://www.abs.gov.au/statistics/classifications/anzsco-australian-and-new-zealand-standard-classification-occupations/2022/browse-classification/8 ...\n"
     ]
    }
   ],
   "source": [
    "# -------------------------\n",
    "# Crawl ALL major groups (1–8)\n",
    "# -------------------------\n",
    "base = \"https://www.abs.gov.au/statistics/classifications/anzsco-australian-and-new-zealand-standard-classification-occupations/2022/browse-classification/\"\n",
    "major_groups = [str(i) for i in range(1, 9)]\n",
    "start_urls = [base + g for g in major_groups]\n",
    "\n",
    "all_rows = []\n",
    "for url in start_urls:\n",
    "    print(f\"Crawling {url} ...\")\n",
    "    tree = crawl_anzsco(url, max_depth=6)  # adjust depth if needed\n",
    "    rows = flatten_tree(tree)\n",
    "    all_rows.extend(rows)\n",
    "\n",
    "# Convert to DataFrame\n",
    "df = pd.DataFrame(all_rows)"
   ]
  },
  {
   "cell_type": "code",
   "execution_count": null,
   "id": "e1382a81",
   "metadata": {},
   "outputs": [],
   "source": [
    "# Load the ANZSCO data\n",
    "#df = pd.read_csv(\"../data/anzsco_full.csv\")"
   ]
  },
  {
   "cell_type": "code",
   "execution_count": 5,
   "id": "990cdf43",
   "metadata": {},
   "outputs": [],
   "source": [
    "# rename column to 'text' for splitting\n",
    "df.rename(columns={'occupation_name': 'text'}, inplace=True)\n",
    "                   \n",
    " # Use regex: ^(\\d+) = digits at start, (.+) = rest of the string\n",
    "df[[\"occupation_code\", \"occupation_name\"]] = df[\"text\"].str.extract(r\"^(\\d+)(.+)\")\n",
    "\n",
    "# Strip extra spaces in names\n",
    "df[\"occupation_name\"] = df[\"occupation_name\"].str.strip()\n",
    "\n",
    "# Drop text column\n",
    "df.drop(columns=['text'], inplace=True)\n",
    "\n",
    "# Remove all digits\n",
    "df[\"path\"] = df[\"path\"].str.replace(r\"\\d+\", \"\", regex=True).str.strip()\n",
    "\n",
    "# Remove duplicates within the hierarchy\n",
    "df[\"path\"] = (\n",
    "    df[\"path\"]\n",
    "    .str.split(\" > \")\n",
    "    .apply(lambda parts: \" > \".join(dict.fromkeys(parts)))  # preserves order, removes duplicates\n",
    ")\n",
    "\n",
    "# Remove the constant prefix\n",
    "prefix = \"Indicative Skill Level:In Australia and New Zealand:\"\n",
    "df[\"skill_level\"] = df[\"skill_level\"].str.replace(prefix, \"\", regex=False).str.strip()\n"
   ]
  },
  {
   "cell_type": "markdown",
   "id": "244eb30e",
   "metadata": {},
   "source": [
    "### Add extra data"
   ]
  },
  {
   "cell_type": "code",
   "execution_count": 23,
   "id": "377a8382",
   "metadata": {},
   "outputs": [],
   "source": [
    "# add OLS occupation list shortage status\n",
    "ols_df = pd.read_csv(\"../data/OSL 2024.csv\") \n",
    "#rename columns for merging\n",
    "ols_df.rename(columns={'ANZSCO': 'occupation_code'}, inplace=True)\n",
    "# select relevant columns\n",
    "ols_df = ols_df[['occupation_code', 'National Shortage Rating']]\n",
    "\n",
    "# Convert 'Numeric_Column' to string\n",
    "ols_df['occupation_code'] = ols_df['occupation_code'].astype(str)\n"
   ]
  },
  {
   "cell_type": "code",
   "execution_count": 25,
   "id": "a5b114fb",
   "metadata": {},
   "outputs": [],
   "source": [
    "# Merge the OLS data with the ANZSCO data\n",
    "anzsco_df = pd.merge(df, ols_df, on='occupation_code', how='left')\n"
   ]
  },
  {
   "cell_type": "code",
   "execution_count": 28,
   "id": "457f99dd",
   "metadata": {},
   "outputs": [],
   "source": [
    "#anzsco_df.head()\n"
   ]
  },
  {
   "cell_type": "markdown",
   "id": "774c834a",
   "metadata": {},
   "source": [
    "### save"
   ]
  },
  {
   "cell_type": "code",
   "execution_count": 29,
   "id": "2caaad9a",
   "metadata": {},
   "outputs": [],
   "source": [
    "# Save to CSV\n",
    "anzsco_df.to_csv(\"../data/anzsco_full.csv\", index=False, encoding=\"utf-8\")"
   ]
  }
 ],
 "metadata": {
  "kernelspec": {
   "display_name": ".venv",
   "language": "python",
   "name": "python3"
  },
  "language_info": {
   "codemirror_mode": {
    "name": "ipython",
    "version": 3
   },
   "file_extension": ".py",
   "mimetype": "text/x-python",
   "name": "python",
   "nbconvert_exporter": "python",
   "pygments_lexer": "ipython3",
   "version": "3.9.12"
  }
 },
 "nbformat": 4,
 "nbformat_minor": 5
}
