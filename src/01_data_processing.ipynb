{
 "cells": [
  {
   "cell_type": "code",
   "execution_count": null,
   "id": "c931647b",
   "metadata": {},
   "outputs": [],
   "source": [
    "import os\n",
    "import pandas as pd\n",
    "import sys\n",
    "\n",
    "from utils.crawl_anzsco import extract_anzsco_info, crawl_anzsco, flatten_tree"
   ]
  },
  {
   "cell_type": "code",
   "execution_count": null,
   "id": "1d055f6b",
   "metadata": {},
   "outputs": [],
   "source": [
    "# import module from utils directory\n",
    "# use init.py to make it a package in the future\n",
    "# # ------------------------------------------------------------\n",
    "# # caution: path[0] is reserved for script path (or '' in REPL)\n",
    "# sys.path.insert(1, '/Users/samuelshamiri/projects/rag_anzsco/utils')\n",
    "\n",
    "# from crawl_anzsco import extract_anzsco_info, crawl_anzsco, flatten_tree"
   ]
  },
  {
   "cell_type": "code",
   "execution_count": 30,
   "id": "dea5c0df",
   "metadata": {},
   "outputs": [
    {
     "name": "stdout",
     "output_type": "stream",
     "text": [
      "Crawling https://www.abs.gov.au/statistics/classifications/anzsco-australian-and-new-zealand-standard-classification-occupations/2022/browse-classification/1 ...\n",
      "Crawling https://www.abs.gov.au/statistics/classifications/anzsco-australian-and-new-zealand-standard-classification-occupations/2022/browse-classification/2 ...\n",
      "Crawling https://www.abs.gov.au/statistics/classifications/anzsco-australian-and-new-zealand-standard-classification-occupations/2022/browse-classification/3 ...\n",
      "Crawling https://www.abs.gov.au/statistics/classifications/anzsco-australian-and-new-zealand-standard-classification-occupations/2022/browse-classification/4 ...\n",
      "Crawling https://www.abs.gov.au/statistics/classifications/anzsco-australian-and-new-zealand-standard-classification-occupations/2022/browse-classification/5 ...\n",
      "Crawling https://www.abs.gov.au/statistics/classifications/anzsco-australian-and-new-zealand-standard-classification-occupations/2022/browse-classification/6 ...\n",
      "Crawling https://www.abs.gov.au/statistics/classifications/anzsco-australian-and-new-zealand-standard-classification-occupations/2022/browse-classification/7 ...\n",
      "Crawling https://www.abs.gov.au/statistics/classifications/anzsco-australian-and-new-zealand-standard-classification-occupations/2022/browse-classification/8 ...\n"
     ]
    }
   ],
   "source": [
    "# -------------------------\n",
    "# Crawl ALL major groups (1–8)\n",
    "# -------------------------\n",
    "base = \"https://www.abs.gov.au/statistics/classifications/anzsco-australian-and-new-zealand-standard-classification-occupations/2022/browse-classification/\"\n",
    "major_groups = [str(i) for i in range(1, 9)]\n",
    "start_urls = [base + g for g in major_groups]\n",
    "\n",
    "all_rows = []\n",
    "for url in start_urls:\n",
    "    print(f\"Crawling {url} ...\")\n",
    "    tree = crawl_anzsco(url, max_depth=6)  # adjust depth if needed\n",
    "    rows = flatten_tree(tree)\n",
    "    all_rows.extend(rows)\n",
    "\n",
    "# Convert to DataFrame\n",
    "anzsco_df = pd.DataFrame(all_rows)"
   ]
  },
  {
   "cell_type": "code",
   "execution_count": 33,
   "id": "2caaad9a",
   "metadata": {},
   "outputs": [],
   "source": [
    "# Save to CSV\n",
    "anzsco_df.to_csv(\"../data/anzsco_full.csv\", index=False, encoding=\"utf-8\")"
   ]
  },
  {
   "cell_type": "code",
   "execution_count": null,
   "id": "3fd0280b",
   "metadata": {},
   "outputs": [],
   "source": []
  }
 ],
 "metadata": {
  "kernelspec": {
   "display_name": ".venv",
   "language": "python",
   "name": "python3"
  },
  "language_info": {
   "codemirror_mode": {
    "name": "ipython",
    "version": 3
   },
   "file_extension": ".py",
   "mimetype": "text/x-python",
   "name": "python",
   "nbconvert_exporter": "python",
   "pygments_lexer": "ipython3",
   "version": "3.9.12"
  }
 },
 "nbformat": 4,
 "nbformat_minor": 5
}
