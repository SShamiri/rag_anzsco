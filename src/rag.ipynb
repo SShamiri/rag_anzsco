{
 "cells": [
  {
   "cell_type": "code",
   "execution_count": 39,
   "id": "24a7faff",
   "metadata": {},
   "outputs": [],
   "source": [
    "import pandas as pd\n",
    "from typing import List\n",
    "\n",
    "import os\n",
    "import lancedb\n",
    "from lancedb.embeddings import get_registry\n",
    "from lancedb.pydantic import LanceModel, Vector\n",
    "\n",
    "import ollama\n",
    "\n"
   ]
  },
  {
   "cell_type": "code",
   "execution_count": 36,
   "id": "c8c3b030",
   "metadata": {},
   "outputs": [],
   "source": [
    "# Load the ANZSCO data\n",
    "df = pd.read_csv(\"../data/anzsco_full.csv\")"
   ]
  },
  {
   "cell_type": "code",
   "execution_count": 37,
   "id": "68a29a60",
   "metadata": {},
   "outputs": [],
   "source": [
    "# Create text representation for each occupation\n",
    "df[\"doc_text\"] = (\n",
    "    df[\"occupation_name\"].fillna(\"\") + \"\\n\"\n",
    "    + df[\"skill_level\"].fillna(\"\") + \"\\n\"\n",
    "    + df[\"tasks\"].fillna(\"\") + \"\\n\"\n",
    "    + \"Path: \" + df[\"path\"].fillna(\"\")\n",
    ")"
   ]
  },
  {
   "cell_type": "code",
   "execution_count": 38,
   "id": "81842758",
   "metadata": {},
   "outputs": [
    {
     "data": {
      "text/html": [
       "<div>\n",
       "<style scoped>\n",
       "    .dataframe tbody tr th:only-of-type {\n",
       "        vertical-align: middle;\n",
       "    }\n",
       "\n",
       "    .dataframe tbody tr th {\n",
       "        vertical-align: top;\n",
       "    }\n",
       "\n",
       "    .dataframe thead th {\n",
       "        text-align: right;\n",
       "    }\n",
       "</style>\n",
       "<table border=\"1\" class=\"dataframe\">\n",
       "  <thead>\n",
       "    <tr style=\"text-align: right;\">\n",
       "      <th></th>\n",
       "      <th>occupation_name</th>\n",
       "      <th>skill_level</th>\n",
       "      <th>tasks</th>\n",
       "      <th>path</th>\n",
       "      <th>doc_text</th>\n",
       "    </tr>\n",
       "  </thead>\n",
       "  <tbody>\n",
       "    <tr>\n",
       "      <th>0</th>\n",
       "      <td>1Managers</td>\n",
       "      <td>Indicative Skill Level:Most occupations in thi...</td>\n",
       "      <td>setting the overall direction and objectives o...</td>\n",
       "      <td>1Managers</td>\n",
       "      <td>1Managers\\nIndicative Skill Level:Most occupat...</td>\n",
       "    </tr>\n",
       "    <tr>\n",
       "      <th>1</th>\n",
       "      <td>11Chief Executives, General Managers and Legis...</td>\n",
       "      <td>Indicative Skill Level:In Australia and New Ze...</td>\n",
       "      <td>determining and setting the overall direction ...</td>\n",
       "      <td>1Managers &gt; 11Chief Executives, General Manage...</td>\n",
       "      <td>11Chief Executives, General Managers and Legis...</td>\n",
       "    </tr>\n",
       "  </tbody>\n",
       "</table>\n",
       "</div>"
      ],
      "text/plain": [
       "                                     occupation_name  \\\n",
       "0                                          1Managers   \n",
       "1  11Chief Executives, General Managers and Legis...   \n",
       "\n",
       "                                         skill_level  \\\n",
       "0  Indicative Skill Level:Most occupations in thi...   \n",
       "1  Indicative Skill Level:In Australia and New Ze...   \n",
       "\n",
       "                                               tasks  \\\n",
       "0  setting the overall direction and objectives o...   \n",
       "1  determining and setting the overall direction ...   \n",
       "\n",
       "                                                path  \\\n",
       "0                                          1Managers   \n",
       "1  1Managers > 11Chief Executives, General Manage...   \n",
       "\n",
       "                                            doc_text  \n",
       "0  1Managers\\nIndicative Skill Level:Most occupat...  \n",
       "1  11Chief Executives, General Managers and Legis...  "
      ]
     },
     "execution_count": 38,
     "metadata": {},
     "output_type": "execute_result"
    }
   ],
   "source": [
    "df.head(2)"
   ]
  },
  {
   "cell_type": "code",
   "execution_count": 6,
   "id": "26d29aec",
   "metadata": {},
   "outputs": [],
   "source": [
    "# --------------------------------------------------------------\n",
    "# Create a LanceDB database and table\n",
    "# --------------------------------------------------------------\n",
    "\n",
    "# Create a LanceDB database\n",
    "db = lancedb.connect(\"../db/lancedb\")\n",
    "\n",
    "\n",
    "# Get the ollama embedding function\n",
    "func = get_registry().get(\"ollama\").create(name=\"nomic-embed-text\")"
   ]
  },
  {
   "cell_type": "code",
   "execution_count": 7,
   "id": "3a7505ca",
   "metadata": {},
   "outputs": [],
   "source": [
    "# Define a simplified metadata schema\n",
    "class ChunkMetadata(LanceModel):\n",
    "    \"\"\"\n",
    "    You must order the fields in alphabetical order.\n",
    "    This is a requirement of the Pydantic implementation.\n",
    "    \"\"\"\n",
    "\n",
    "    occupation: str\n",
    "    level: str\n",
    "    tasks: str\n",
    "\n",
    "\n",
    "# Define the main Schema\n",
    "class Chunks(LanceModel):\n",
    "    text: str = func.SourceField()\n",
    "    vector: Vector(func.ndims()) = func.VectorField()  # type: ignore\n",
    "    metadata: ChunkMetadata"
   ]
  },
  {
   "cell_type": "code",
   "execution_count": 8,
   "id": "410feccf",
   "metadata": {},
   "outputs": [],
   "source": [
    "table = db.create_table(\"docling\", schema=Chunks, mode=\"overwrite\")"
   ]
  },
  {
   "cell_type": "code",
   "execution_count": 50,
   "id": "d864f6a6",
   "metadata": {},
   "outputs": [],
   "source": [
    "# # Define the main Schema\n",
    "# class Chunks(LanceModel):\n",
    "#     doc_text: str = func.SourceField()\n",
    "#     vector: Vector(func.ndims()) = func.VectorField()  # type: ignore\n",
    "\n",
    "\n",
    "\n",
    "# table = db.create_table(\"docling\", schema=Chunks, mode=\"overwrite\")"
   ]
  },
  {
   "cell_type": "code",
   "execution_count": 51,
   "id": "a029d46a",
   "metadata": {},
   "outputs": [],
   "source": [
    "# # If you want to process the data while converting\n",
    "# def create_custom_dict(row):\n",
    "#     return {\n",
    "#         'occupation': row['occupation_name'],\n",
    "#         'skill_info': {\n",
    "#             'level': row['skill_level'],\n",
    "#             'tasks': row['tasks'],\n",
    "#             'description': row['doc_text']\n",
    "#         }\n",
    "#     }\n",
    "\n",
    "# # Apply to each row\n",
    "# custom_dicts = [create_custom_dict(row) for _, row in df.iterrows()]\n",
    "\n",
    "# print(custom_dicts)"
   ]
  },
  {
   "cell_type": "code",
   "execution_count": 52,
   "id": "fbd09f59",
   "metadata": {},
   "outputs": [],
   "source": [
    "# # If you want to process the data while converting\n",
    "# def create_custom_dict(row):\n",
    "#     return {\n",
    "#         \"text\": row['doc_text'],\n",
    "#         'metadata': {\n",
    "#             'level': row['skill_level'].replace('Indicative Skill Level:', '').strip(),\n",
    "#             'tasks': row['tasks'],\n",
    "#             'occupation': row['occupation_name']\n",
    "#         }\n",
    "#     }\n",
    "\n",
    "# # Apply to each row\n",
    "# custom_dicts = [create_custom_dict(row) for _, row in df.iterrows()]\n",
    "\n",
    "#print(custom_dicts)"
   ]
  },
  {
   "cell_type": "code",
   "execution_count": 9,
   "id": "babc5949",
   "metadata": {},
   "outputs": [],
   "source": [
    "def create_custom_dict(row):\n",
    "    skill_level_str = str(row['skill_level'])  # Convert to string\n",
    "    return {\n",
    "        \"text\": row['doc_text'],\n",
    "        'metadata': {\n",
    "            'level': skill_level_str.replace('Indicative Skill Level:', '').strip(),\n",
    "            'tasks': row['tasks'],\n",
    "            'occupation': row['occupation_name']\n",
    "        }\n",
    "    }\n",
    "\n",
    "# Apply to each row\n",
    "custom_dicts = [create_custom_dict(row) for _, row in df.iterrows()]\n"
   ]
  },
  {
   "cell_type": "code",
   "execution_count": 11,
   "id": "9e43670c",
   "metadata": {},
   "outputs": [
    {
     "data": {
      "text/plain": [
       "[{'text': '1Managers\\nIndicative Skill Level:Most occupations in this major group have a level of skill commensurate with the qualifications and experience outlined below.In Australia:Bachelor degree or higher qualification. At least five years of relevant experience may substitute for the formal qualification (ANZSCO Skill Level 1); orAQF Associate Degree, Advanced Diploma or Diploma, or at least three years of relevant experience (ANZSCO Skill Level 2)In New Zealand:Bachelor degree or higher qualification. At least five years of relevant experience may substitute for the formal qualification (ANZSCO Skill Level 1); orNZQF Diploma, or at least three years of relevant experience (ANZSCO Skill Level 2)In some instances relevant experience and/or on-the-job training may be required in addition to the formal qualification.Tasks Include:setting the overall direction and objectives of organisations and departments within organisationsformulating, administering and reviewing policy and legislation to ensure organisational and departmental objectives are metdirecting and coordinating the allocation of assets and resourcesdirecting, controlling and coordinating the activities of organisations and departments, either personally or through senior subordinate staffmonitoring and evaluating overall organisational and departmental performance, and adjusting policies, rules and regulations to ensure objectives are metrepresenting the organisation at official occasions, in negotiations, at conventions, seminars, public hearings and forums, and liaising between areas of responsibility\\nsetting the overall direction and objectives of organisations and departments within organisations; formulating, administering and reviewing policy and legislation to ensure organisational and departmental objectives are met; directing and coordinating the allocation of assets and resources; directing, controlling and coordinating the activities of organisations and departments, either personally or through senior subordinate staff; monitoring and evaluating overall organisational and departmental performance, and adjusting policies, rules and regulations to ensure objectives are met; representing the organisation at official occasions, in negotiations, at conventions, seminars, public hearings and forums, and liaising between areas of responsibility\\nPath: 1Managers',\n",
       "  'metadata': {'level': 'Most occupations in this major group have a level of skill commensurate with the qualifications and experience outlined below.In Australia:Bachelor degree or higher qualification. At least five years of relevant experience may substitute for the formal qualification (ANZSCO Skill Level 1); orAQF Associate Degree, Advanced Diploma or Diploma, or at least three years of relevant experience (ANZSCO Skill Level 2)In New Zealand:Bachelor degree or higher qualification. At least five years of relevant experience may substitute for the formal qualification (ANZSCO Skill Level 1); orNZQF Diploma, or at least three years of relevant experience (ANZSCO Skill Level 2)In some instances relevant experience and/or on-the-job training may be required in addition to the formal qualification.Tasks Include:setting the overall direction and objectives of organisations and departments within organisationsformulating, administering and reviewing policy and legislation to ensure organisational and departmental objectives are metdirecting and coordinating the allocation of assets and resourcesdirecting, controlling and coordinating the activities of organisations and departments, either personally or through senior subordinate staffmonitoring and evaluating overall organisational and departmental performance, and adjusting policies, rules and regulations to ensure objectives are metrepresenting the organisation at official occasions, in negotiations, at conventions, seminars, public hearings and forums, and liaising between areas of responsibility',\n",
       "   'tasks': 'setting the overall direction and objectives of organisations and departments within organisations; formulating, administering and reviewing policy and legislation to ensure organisational and departmental objectives are met; directing and coordinating the allocation of assets and resources; directing, controlling and coordinating the activities of organisations and departments, either personally or through senior subordinate staff; monitoring and evaluating overall organisational and departmental performance, and adjusting policies, rules and regulations to ensure objectives are met; representing the organisation at official occasions, in negotiations, at conventions, seminars, public hearings and forums, and liaising between areas of responsibility',\n",
       "   'occupation': '1Managers'}},\n",
       " {'text': '11Chief Executives, General Managers and Legislators\\nIndicative Skill Level:In Australia and New Zealand:Most occupations in this sub-major group have a level of skill commensurate with a bachelor degree or higher qualification. At least five years of relevant experience may substitute for the formal qualification. In some instances relevant experience and/or on-the-job training may be required in addition to the formal qualification (ANZSCO Skill Level 1).Tasks Include:determining and setting the overall direction and objectives of organisationsdetermining and formulating policies, rules and regulations to govern the overall operations of organisationsdirecting and controlling the overall operations of organisations to ensure objectives are metmonitoring and evaluating the overall performance of organisations and adjusting policies, rules and regulations to ensure objectives are metrepresenting the organisation at official occasions, in negotiations, at conventions, seminars, public hearings and forums, and liaising between areas of responsibilitydetermining, planning and formulating government policies, laws, rules and regulationsinvestigating matters of concern to the public and electorate, and proposing government action\\ndetermining and setting the overall direction and objectives of organisations; determining and formulating policies, rules and regulations to govern the overall operations of organisations; directing and controlling the overall operations of organisations to ensure objectives are met; monitoring and evaluating the overall performance of organisations and adjusting policies, rules and regulations to ensure objectives are met; representing the organisation at official occasions, in negotiations, at conventions, seminars, public hearings and forums, and liaising between areas of responsibility; determining, planning and formulating government policies, laws, rules and regulations; investigating matters of concern to the public and electorate, and proposing government action\\nPath: 1Managers > 11Chief Executives, General Managers and Legislators',\n",
       "  'metadata': {'level': 'In Australia and New Zealand:Most occupations in this sub-major group have a level of skill commensurate with a bachelor degree or higher qualification. At least five years of relevant experience may substitute for the formal qualification. In some instances relevant experience and/or on-the-job training may be required in addition to the formal qualification (ANZSCO Skill Level 1).Tasks Include:determining and setting the overall direction and objectives of organisationsdetermining and formulating policies, rules and regulations to govern the overall operations of organisationsdirecting and controlling the overall operations of organisations to ensure objectives are metmonitoring and evaluating the overall performance of organisations and adjusting policies, rules and regulations to ensure objectives are metrepresenting the organisation at official occasions, in negotiations, at conventions, seminars, public hearings and forums, and liaising between areas of responsibilitydetermining, planning and formulating government policies, laws, rules and regulationsinvestigating matters of concern to the public and electorate, and proposing government action',\n",
       "   'tasks': 'determining and setting the overall direction and objectives of organisations; determining and formulating policies, rules and regulations to govern the overall operations of organisations; directing and controlling the overall operations of organisations to ensure objectives are met; monitoring and evaluating the overall performance of organisations and adjusting policies, rules and regulations to ensure objectives are met; representing the organisation at official occasions, in negotiations, at conventions, seminars, public hearings and forums, and liaising between areas of responsibility; determining, planning and formulating government policies, laws, rules and regulations; investigating matters of concern to the public and electorate, and proposing government action',\n",
       "   'occupation': '11Chief Executives, General Managers and Legislators'}}]"
      ]
     },
     "execution_count": 11,
     "metadata": {},
     "output_type": "execute_result"
    }
   ],
   "source": [
    "custom_dicts[0:2]"
   ]
  },
  {
   "cell_type": "code",
   "execution_count": 40,
   "id": "d38cc7eb",
   "metadata": {},
   "outputs": [],
   "source": [
    "\n",
    "# Function to get embeddings using Ollama\n",
    "def get_ollama_embedding(text, model_name=\"nomic-embed-text\"):\n",
    "    try:\n",
    "        # Call the Ollama embeddings API\n",
    "        response = ollama.embeddings(model=model_name, prompt=text)\n",
    "        return response['embedding']\n",
    "    except Exception as e:\n",
    "        print(f\"Error getting embedding for text: '{text}' - {e}\")\n",
    "        return None"
   ]
  },
  {
   "cell_type": "code",
   "execution_count": 41,
   "id": "072cad44",
   "metadata": {},
   "outputs": [],
   "source": [
    "df['embedding_vector'] = df['doc_text'].apply(lambda x: get_ollama_embedding(x))"
   ]
  },
  {
   "cell_type": "code",
   "execution_count": 43,
   "id": "1069845d",
   "metadata": {},
   "outputs": [],
   "source": [
    "table = db.create_table(\"docling\", data=df, mode=\"overwrite\")"
   ]
  },
  {
   "cell_type": "code",
   "execution_count": 42,
   "id": "bd1dd92c",
   "metadata": {},
   "outputs": [],
   "source": [
    "# --------------------------------------------------------------\n",
    "# Add the chunks to the table (automatically embeds the text)\n",
    "# --------------------------------------------------------------\n",
    "\n",
    "#table.add(custom_dicts)"
   ]
  },
  {
   "cell_type": "code",
   "execution_count": 44,
   "id": "afc0ee4d",
   "metadata": {},
   "outputs": [
    {
     "ename": "RuntimeError",
     "evalue": "lance error: Invalid user input: Cannot perform full text search unless an INVERTED index has been created on at least one column, /Users/runner/.cargo/registry/src/index.crates.io-1949cf8c6b5b557f/lance-index-0.35.0/src/scalar/inverted/query.rs:685:25",
     "output_type": "error",
     "traceback": [
      "\u001b[0;31m---------------------------------------------------------------------------\u001b[0m",
      "\u001b[0;31mRuntimeError\u001b[0m                              Traceback (most recent call last)",
      "Cell \u001b[0;32mIn[44], line 1\u001b[0m\n\u001b[0;32m----> 1\u001b[0m \u001b[43mtable\u001b[49m\u001b[38;5;241;43m.\u001b[39;49m\u001b[43msearch\u001b[49m\u001b[43m(\u001b[49m\u001b[38;5;124;43m\"\u001b[39;49m\u001b[38;5;124;43mwhat tasks for managers\u001b[39;49m\u001b[38;5;124;43m\"\u001b[39;49m\u001b[43m)\u001b[49m\u001b[38;5;241;43m.\u001b[39;49m\u001b[43mlimit\u001b[49m\u001b[43m(\u001b[49m\u001b[38;5;241;43m4\u001b[39;49m\u001b[43m)\u001b[49m\u001b[38;5;241;43m.\u001b[39;49m\u001b[43mto_pandas\u001b[49m\u001b[43m(\u001b[49m\u001b[43m)\u001b[49m\n",
      "File \u001b[0;32m~/projects/rag_anzsco/.venv/lib/python3.9/site-packages/lancedb/query.py:693\u001b[0m, in \u001b[0;36mLanceQueryBuilder.to_pandas\u001b[0;34m(self, flatten, timeout)\u001b[0m\n\u001b[1;32m    670\u001b[0m \u001b[38;5;28;01mdef\u001b[39;00m\u001b[38;5;250m \u001b[39m\u001b[38;5;21mto_pandas\u001b[39m(\n\u001b[1;32m    671\u001b[0m     \u001b[38;5;28mself\u001b[39m,\n\u001b[1;32m    672\u001b[0m     flatten: Optional[Union[\u001b[38;5;28mint\u001b[39m, \u001b[38;5;28mbool\u001b[39m]] \u001b[38;5;241m=\u001b[39m \u001b[38;5;28;01mNone\u001b[39;00m,\n\u001b[1;32m    673\u001b[0m     \u001b[38;5;241m*\u001b[39m,\n\u001b[1;32m    674\u001b[0m     timeout: Optional[timedelta] \u001b[38;5;241m=\u001b[39m \u001b[38;5;28;01mNone\u001b[39;00m,\n\u001b[1;32m    675\u001b[0m ) \u001b[38;5;241m-\u001b[39m\u001b[38;5;241m>\u001b[39m \u001b[38;5;124m\"\u001b[39m\u001b[38;5;124mpd.DataFrame\u001b[39m\u001b[38;5;124m\"\u001b[39m:\n\u001b[1;32m    676\u001b[0m \u001b[38;5;250m    \u001b[39m\u001b[38;5;124;03m\"\"\"\u001b[39;00m\n\u001b[1;32m    677\u001b[0m \u001b[38;5;124;03m    Execute the query and return the results as a pandas DataFrame.\u001b[39;00m\n\u001b[1;32m    678\u001b[0m \u001b[38;5;124;03m    In addition to the selected columns, LanceDB also returns a vector\u001b[39;00m\n\u001b[0;32m   (...)\u001b[0m\n\u001b[1;32m    691\u001b[0m \u001b[38;5;124;03m        If None, wait indefinitely.\u001b[39;00m\n\u001b[1;32m    692\u001b[0m \u001b[38;5;124;03m    \"\"\"\u001b[39;00m\n\u001b[0;32m--> 693\u001b[0m     tbl \u001b[38;5;241m=\u001b[39m flatten_columns(\u001b[38;5;28;43mself\u001b[39;49m\u001b[38;5;241;43m.\u001b[39;49m\u001b[43mto_arrow\u001b[49m\u001b[43m(\u001b[49m\u001b[43mtimeout\u001b[49m\u001b[38;5;241;43m=\u001b[39;49m\u001b[43mtimeout\u001b[49m\u001b[43m)\u001b[49m, flatten)\n\u001b[1;32m    694\u001b[0m     \u001b[38;5;28;01mreturn\u001b[39;00m tbl\u001b[38;5;241m.\u001b[39mto_pandas()\n",
      "File \u001b[0;32m~/projects/rag_anzsco/.venv/lib/python3.9/site-packages/lancedb/query.py:1470\u001b[0m, in \u001b[0;36mLanceFtsQueryBuilder.to_arrow\u001b[0;34m(self, timeout)\u001b[0m\n\u001b[1;32m   1468\u001b[0m         \u001b[38;5;28;01mraise\u001b[39;00m \u001b[38;5;167;01mTypeError\u001b[39;00m(\u001b[38;5;124m\"\u001b[39m\u001b[38;5;124mPlease use PhraseQuery for phrase queries.\u001b[39m\u001b[38;5;124m\"\u001b[39m)\n\u001b[1;32m   1469\u001b[0m query \u001b[38;5;241m=\u001b[39m \u001b[38;5;28mself\u001b[39m\u001b[38;5;241m.\u001b[39mto_query_object()\n\u001b[0;32m-> 1470\u001b[0m results \u001b[38;5;241m=\u001b[39m \u001b[38;5;28;43mself\u001b[39;49m\u001b[38;5;241;43m.\u001b[39;49m\u001b[43m_table\u001b[49m\u001b[38;5;241;43m.\u001b[39;49m\u001b[43m_execute_query\u001b[49m\u001b[43m(\u001b[49m\u001b[43mquery\u001b[49m\u001b[43m,\u001b[49m\u001b[43m \u001b[49m\u001b[43mtimeout\u001b[49m\u001b[38;5;241;43m=\u001b[39;49m\u001b[43mtimeout\u001b[49m\u001b[43m)\u001b[49m\n\u001b[1;32m   1471\u001b[0m results \u001b[38;5;241m=\u001b[39m results\u001b[38;5;241m.\u001b[39mread_all()\n\u001b[1;32m   1472\u001b[0m \u001b[38;5;28;01mif\u001b[39;00m \u001b[38;5;28mself\u001b[39m\u001b[38;5;241m.\u001b[39m_reranker \u001b[38;5;129;01mis\u001b[39;00m \u001b[38;5;129;01mnot\u001b[39;00m \u001b[38;5;28;01mNone\u001b[39;00m:\n",
      "File \u001b[0;32m~/projects/rag_anzsco/.venv/lib/python3.9/site-packages/lancedb/table.py:2716\u001b[0m, in \u001b[0;36mLanceTable._execute_query\u001b[0;34m(self, query, batch_size, timeout)\u001b[0m\n\u001b[1;32m   2709\u001b[0m \u001b[38;5;28;01mdef\u001b[39;00m\u001b[38;5;250m \u001b[39m\u001b[38;5;21m_execute_query\u001b[39m(\n\u001b[1;32m   2710\u001b[0m     \u001b[38;5;28mself\u001b[39m,\n\u001b[1;32m   2711\u001b[0m     query: Query,\n\u001b[0;32m   (...)\u001b[0m\n\u001b[1;32m   2714\u001b[0m     timeout: Optional[timedelta] \u001b[38;5;241m=\u001b[39m \u001b[38;5;28;01mNone\u001b[39;00m,\n\u001b[1;32m   2715\u001b[0m ) \u001b[38;5;241m-\u001b[39m\u001b[38;5;241m>\u001b[39m pa\u001b[38;5;241m.\u001b[39mRecordBatchReader:\n\u001b[0;32m-> 2716\u001b[0m     async_iter \u001b[38;5;241m=\u001b[39m \u001b[43mLOOP\u001b[49m\u001b[38;5;241;43m.\u001b[39;49m\u001b[43mrun\u001b[49m\u001b[43m(\u001b[49m\n\u001b[1;32m   2717\u001b[0m \u001b[43m        \u001b[49m\u001b[38;5;28;43mself\u001b[39;49m\u001b[38;5;241;43m.\u001b[39;49m\u001b[43m_table\u001b[49m\u001b[38;5;241;43m.\u001b[39;49m\u001b[43m_execute_query\u001b[49m\u001b[43m(\u001b[49m\u001b[43mquery\u001b[49m\u001b[43m,\u001b[49m\u001b[43m \u001b[49m\u001b[43mbatch_size\u001b[49m\u001b[38;5;241;43m=\u001b[39;49m\u001b[43mbatch_size\u001b[49m\u001b[43m,\u001b[49m\u001b[43m \u001b[49m\u001b[43mtimeout\u001b[49m\u001b[38;5;241;43m=\u001b[39;49m\u001b[43mtimeout\u001b[49m\u001b[43m)\u001b[49m\n\u001b[1;32m   2718\u001b[0m \u001b[43m    \u001b[49m\u001b[43m)\u001b[49m\n\u001b[1;32m   2720\u001b[0m     \u001b[38;5;28;01mdef\u001b[39;00m\u001b[38;5;250m \u001b[39m\u001b[38;5;21miter_sync\u001b[39m():\n\u001b[1;32m   2721\u001b[0m         \u001b[38;5;28;01mtry\u001b[39;00m:\n",
      "File \u001b[0;32m~/projects/rag_anzsco/.venv/lib/python3.9/site-packages/lancedb/background_loop.py:25\u001b[0m, in \u001b[0;36mBackgroundEventLoop.run\u001b[0;34m(self, future)\u001b[0m\n\u001b[1;32m     24\u001b[0m \u001b[38;5;28;01mdef\u001b[39;00m\u001b[38;5;250m \u001b[39m\u001b[38;5;21mrun\u001b[39m(\u001b[38;5;28mself\u001b[39m, future):\n\u001b[0;32m---> 25\u001b[0m     \u001b[38;5;28;01mreturn\u001b[39;00m \u001b[43masyncio\u001b[49m\u001b[38;5;241;43m.\u001b[39;49m\u001b[43mrun_coroutine_threadsafe\u001b[49m\u001b[43m(\u001b[49m\u001b[43mfuture\u001b[49m\u001b[43m,\u001b[49m\u001b[43m \u001b[49m\u001b[38;5;28;43mself\u001b[39;49m\u001b[38;5;241;43m.\u001b[39;49m\u001b[43mloop\u001b[49m\u001b[43m)\u001b[49m\u001b[38;5;241;43m.\u001b[39;49m\u001b[43mresult\u001b[49m\u001b[43m(\u001b[49m\u001b[43m)\u001b[49m\n",
      "File \u001b[0;32m/opt/miniconda3/lib/python3.9/concurrent/futures/_base.py:446\u001b[0m, in \u001b[0;36mFuture.result\u001b[0;34m(self, timeout)\u001b[0m\n\u001b[1;32m    444\u001b[0m     \u001b[38;5;28;01mraise\u001b[39;00m CancelledError()\n\u001b[1;32m    445\u001b[0m \u001b[38;5;28;01melif\u001b[39;00m \u001b[38;5;28mself\u001b[39m\u001b[38;5;241m.\u001b[39m_state \u001b[38;5;241m==\u001b[39m FINISHED:\n\u001b[0;32m--> 446\u001b[0m     \u001b[38;5;28;01mreturn\u001b[39;00m \u001b[38;5;28;43mself\u001b[39;49m\u001b[38;5;241;43m.\u001b[39;49m\u001b[43m__get_result\u001b[49m\u001b[43m(\u001b[49m\u001b[43m)\u001b[49m\n\u001b[1;32m    447\u001b[0m \u001b[38;5;28;01melse\u001b[39;00m:\n\u001b[1;32m    448\u001b[0m     \u001b[38;5;28;01mraise\u001b[39;00m \u001b[38;5;167;01mTimeoutError\u001b[39;00m()\n",
      "File \u001b[0;32m/opt/miniconda3/lib/python3.9/concurrent/futures/_base.py:391\u001b[0m, in \u001b[0;36mFuture.__get_result\u001b[0;34m(self)\u001b[0m\n\u001b[1;32m    389\u001b[0m \u001b[38;5;28;01mif\u001b[39;00m \u001b[38;5;28mself\u001b[39m\u001b[38;5;241m.\u001b[39m_exception:\n\u001b[1;32m    390\u001b[0m     \u001b[38;5;28;01mtry\u001b[39;00m:\n\u001b[0;32m--> 391\u001b[0m         \u001b[38;5;28;01mraise\u001b[39;00m \u001b[38;5;28mself\u001b[39m\u001b[38;5;241m.\u001b[39m_exception\n\u001b[1;32m    392\u001b[0m     \u001b[38;5;28;01mfinally\u001b[39;00m:\n\u001b[1;32m    393\u001b[0m         \u001b[38;5;66;03m# Break a reference cycle with the exception in self._exception\u001b[39;00m\n\u001b[1;32m    394\u001b[0m         \u001b[38;5;28mself\u001b[39m \u001b[38;5;241m=\u001b[39m \u001b[38;5;28;01mNone\u001b[39;00m\n",
      "File \u001b[0;32m~/projects/rag_anzsco/.venv/lib/python3.9/site-packages/lancedb/table.py:3876\u001b[0m, in \u001b[0;36mAsyncTable._execute_query\u001b[0;34m(self, query, batch_size, timeout)\u001b[0m\n\u001b[1;32m   3863\u001b[0m \u001b[38;5;28;01masync\u001b[39;00m \u001b[38;5;28;01mdef\u001b[39;00m\u001b[38;5;250m \u001b[39m\u001b[38;5;21m_execute_query\u001b[39m(\n\u001b[1;32m   3864\u001b[0m     \u001b[38;5;28mself\u001b[39m,\n\u001b[1;32m   3865\u001b[0m     query: Query,\n\u001b[0;32m   (...)\u001b[0m\n\u001b[1;32m   3871\u001b[0m     \u001b[38;5;66;03m# query to the async version of the query and run that here. This is only\u001b[39;00m\n\u001b[1;32m   3872\u001b[0m     \u001b[38;5;66;03m# used for that code path right now.\u001b[39;00m\n\u001b[1;32m   3874\u001b[0m     async_query \u001b[38;5;241m=\u001b[39m \u001b[38;5;28mself\u001b[39m\u001b[38;5;241m.\u001b[39m_sync_query_to_async(query)\n\u001b[0;32m-> 3876\u001b[0m     \u001b[38;5;28;01mreturn\u001b[39;00m \u001b[38;5;28;01mawait\u001b[39;00m async_query\u001b[38;5;241m.\u001b[39mto_batches(\n\u001b[1;32m   3877\u001b[0m         max_batch_length\u001b[38;5;241m=\u001b[39mbatch_size, timeout\u001b[38;5;241m=\u001b[39mtimeout\n\u001b[1;32m   3878\u001b[0m     )\n",
      "File \u001b[0;32m~/projects/rag_anzsco/.venv/lib/python3.9/site-packages/lancedb/query.py:2720\u001b[0m, in \u001b[0;36mAsyncFTSQuery.to_batches\u001b[0;34m(self, max_batch_length, timeout)\u001b[0m\n\u001b[1;32m   2714\u001b[0m \u001b[38;5;28;01masync\u001b[39;00m \u001b[38;5;28;01mdef\u001b[39;00m\u001b[38;5;250m \u001b[39m\u001b[38;5;21mto_batches\u001b[39m(\n\u001b[1;32m   2715\u001b[0m     \u001b[38;5;28mself\u001b[39m,\n\u001b[1;32m   2716\u001b[0m     \u001b[38;5;241m*\u001b[39m,\n\u001b[1;32m   2717\u001b[0m     max_batch_length: Optional[\u001b[38;5;28mint\u001b[39m] \u001b[38;5;241m=\u001b[39m \u001b[38;5;28;01mNone\u001b[39;00m,\n\u001b[1;32m   2718\u001b[0m     timeout: Optional[timedelta] \u001b[38;5;241m=\u001b[39m \u001b[38;5;28;01mNone\u001b[39;00m,\n\u001b[1;32m   2719\u001b[0m ) \u001b[38;5;241m-\u001b[39m\u001b[38;5;241m>\u001b[39m AsyncRecordBatchReader:\n\u001b[0;32m-> 2720\u001b[0m     reader \u001b[38;5;241m=\u001b[39m \u001b[38;5;28;01mawait\u001b[39;00m \u001b[38;5;28msuper\u001b[39m()\u001b[38;5;241m.\u001b[39mto_batches(timeout\u001b[38;5;241m=\u001b[39mtimeout)\n\u001b[1;32m   2721\u001b[0m     results \u001b[38;5;241m=\u001b[39m pa\u001b[38;5;241m.\u001b[39mTable\u001b[38;5;241m.\u001b[39mfrom_batches(\u001b[38;5;28;01mawait\u001b[39;00m reader\u001b[38;5;241m.\u001b[39mread_all(), reader\u001b[38;5;241m.\u001b[39mschema)\n\u001b[1;32m   2722\u001b[0m     \u001b[38;5;28;01mif\u001b[39;00m \u001b[38;5;28mself\u001b[39m\u001b[38;5;241m.\u001b[39m_reranker:\n",
      "File \u001b[0;32m~/projects/rag_anzsco/.venv/lib/python3.9/site-packages/lancedb/query.py:2236\u001b[0m, in \u001b[0;36mAsyncQueryBase.to_batches\u001b[0;34m(self, max_batch_length, timeout)\u001b[0m\n\u001b[1;32m   2213\u001b[0m \u001b[38;5;28;01masync\u001b[39;00m \u001b[38;5;28;01mdef\u001b[39;00m\u001b[38;5;250m \u001b[39m\u001b[38;5;21mto_batches\u001b[39m(\n\u001b[1;32m   2214\u001b[0m     \u001b[38;5;28mself\u001b[39m,\n\u001b[1;32m   2215\u001b[0m     \u001b[38;5;241m*\u001b[39m,\n\u001b[1;32m   2216\u001b[0m     max_batch_length: Optional[\u001b[38;5;28mint\u001b[39m] \u001b[38;5;241m=\u001b[39m \u001b[38;5;28;01mNone\u001b[39;00m,\n\u001b[1;32m   2217\u001b[0m     timeout: Optional[timedelta] \u001b[38;5;241m=\u001b[39m \u001b[38;5;28;01mNone\u001b[39;00m,\n\u001b[1;32m   2218\u001b[0m ) \u001b[38;5;241m-\u001b[39m\u001b[38;5;241m>\u001b[39m AsyncRecordBatchReader:\n\u001b[1;32m   2219\u001b[0m \u001b[38;5;250m    \u001b[39m\u001b[38;5;124;03m\"\"\"\u001b[39;00m\n\u001b[1;32m   2220\u001b[0m \u001b[38;5;124;03m    Execute the query and return the results as an Apache Arrow RecordBatchReader.\u001b[39;00m\n\u001b[1;32m   2221\u001b[0m \n\u001b[0;32m   (...)\u001b[0m\n\u001b[1;32m   2233\u001b[0m \u001b[38;5;124;03m        complete within the specified time, an error will be raised.\u001b[39;00m\n\u001b[1;32m   2234\u001b[0m \u001b[38;5;124;03m    \"\"\"\u001b[39;00m\n\u001b[1;32m   2235\u001b[0m     \u001b[38;5;28;01mreturn\u001b[39;00m AsyncRecordBatchReader(\n\u001b[0;32m-> 2236\u001b[0m         \u001b[38;5;28;01mawait\u001b[39;00m \u001b[38;5;28mself\u001b[39m\u001b[38;5;241m.\u001b[39m_inner\u001b[38;5;241m.\u001b[39mexecute(\n\u001b[1;32m   2237\u001b[0m             max_batch_length\u001b[38;5;241m=\u001b[39mmax_batch_length, timeout\u001b[38;5;241m=\u001b[39mtimeout\n\u001b[1;32m   2238\u001b[0m         )\n\u001b[1;32m   2239\u001b[0m     )\n",
      "\u001b[0;31mRuntimeError\u001b[0m: lance error: Invalid user input: Cannot perform full text search unless an INVERTED index has been created on at least one column, /Users/runner/.cargo/registry/src/index.crates.io-1949cf8c6b5b557f/lance-index-0.35.0/src/scalar/inverted/query.rs:685:25"
     ]
    }
   ],
   "source": [
    "table.search(\"what tasks for managers\").limit(4).to_pandas()"
   ]
  },
  {
   "cell_type": "code",
   "execution_count": null,
   "id": "bef32284",
   "metadata": {},
   "outputs": [],
   "source": []
  }
 ],
 "metadata": {
  "kernelspec": {
   "display_name": ".venv",
   "language": "python",
   "name": "python3"
  },
  "language_info": {
   "codemirror_mode": {
    "name": "ipython",
    "version": 3
   },
   "file_extension": ".py",
   "mimetype": "text/x-python",
   "name": "python",
   "nbconvert_exporter": "python",
   "pygments_lexer": "ipython3",
   "version": "3.9.12"
  }
 },
 "nbformat": 4,
 "nbformat_minor": 5
}
