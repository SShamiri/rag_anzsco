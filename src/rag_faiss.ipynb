{
 "cells": [
  {
   "cell_type": "code",
   "execution_count": 24,
   "id": "8aac4d22",
   "metadata": {},
   "outputs": [],
   "source": [
    "import pandas as pd\n",
    "import numpy as np\n",
    "from typing import List\n",
    "import os\n",
    "\n",
    "import faiss\n",
    "import ollama\n",
    "from ollama import chat as ollama_chat "
   ]
  },
  {
   "cell_type": "code",
   "execution_count": 3,
   "id": "a3f9b881",
   "metadata": {},
   "outputs": [],
   "source": [
    "# Load the ANZSCO data\n",
    "df = pd.read_csv(\"../data/anzsco_full.csv\")"
   ]
  },
  {
   "cell_type": "code",
   "execution_count": 4,
   "id": "5cade05c",
   "metadata": {},
   "outputs": [],
   "source": [
    "# Create text representation for each occupation\n",
    "df[\"doc_text\"] = (\n",
    "    df[\"occupation_name\"].fillna(\"\") + \"\\n\"\n",
    "    + df[\"skill_level\"].fillna(\"\") + \"\\n\"\n",
    "    + df[\"tasks\"].fillna(\"\") + \"\\n\"\n",
    "    + \"Path: \" + df[\"path\"].fillna(\"\")\n",
    ")"
   ]
  },
  {
   "cell_type": "code",
   "execution_count": 5,
   "id": "f50bb2c5",
   "metadata": {},
   "outputs": [],
   "source": [
    "# Function to get embeddings using Ollama\n",
    "def get_ollama_embedding(text, model_name=\"nomic-embed-text\"):\n",
    "    try:\n",
    "        # Call the Ollama embeddings API\n",
    "        response = ollama.embeddings(model=model_name, prompt=text)\n",
    "        return response['embedding']\n",
    "    except Exception as e:\n",
    "        print(f\"Error getting embedding for text: '{text}' - {e}\")\n",
    "        return None"
   ]
  },
  {
   "cell_type": "code",
   "execution_count": 10,
   "id": "f4b45f61",
   "metadata": {},
   "outputs": [],
   "source": [
    "embeddings = df['doc_text'].apply(lambda x: get_ollama_embedding(x)).tolist()"
   ]
  },
  {
   "cell_type": "code",
   "execution_count": 20,
   "id": "649f3bd2",
   "metadata": {},
   "outputs": [],
   "source": [
    "dim = len(embeddings[0])  # embedding dimension\n",
    "index = faiss.IndexFlatL2(dim)\n",
    "index.add(np.array(embeddings).astype(\"float32\"))\n",
    "\n",
    "# Keep metadata mapping\n",
    "id_to_meta = df.to_dict(orient=\"records\")\n"
   ]
  },
  {
   "cell_type": "code",
   "execution_count": 21,
   "id": "c2c02d6a",
   "metadata": {},
   "outputs": [],
   "source": [
    "def retrieve(query: str, k: int = 5):\n",
    "    q_emb = np.array([get_ollama_embedding(query)]).astype(\"float32\")\n",
    "    D, I = index.search(q_emb, k)\n",
    "    return [id_to_meta[i] for i in I[0]]\n"
   ]
  },
  {
   "cell_type": "code",
   "execution_count": 22,
   "id": "6dc44da7",
   "metadata": {},
   "outputs": [],
   "source": [
    "query = \"What are the tasks of Human Resource Clerks?\"\n",
    "results = retrieve(query, k=3)\n",
    "\n",
    "context = \"\\n\\n\".join([r[\"doc_text\"] for r in results])\n",
    "\n",
    "prompt = f\"\"\"\n",
    "You are an expert on ANZSCO occupations.\n",
    "Use the following context to answer the question:\n",
    "\n",
    "{context}\n",
    "\n",
    "Question: {query}\n",
    "Answer:\n",
    "\"\"\"\n",
    "# Send `prompt` to your chosen LLM (could also be Ollama, Azure OpenAI, etc.)\n"
   ]
  },
  {
   "cell_type": "code",
   "execution_count": 35,
   "id": "b971ec92",
   "metadata": {},
   "outputs": [],
   "source": [
    "# import requests\n",
    "\n",
    "# # method 1: Disable streaming (simplest)\n",
    "# def ollama_chat(prompt: str, model: str = \"llama3\") -> str:\n",
    "#     url = \"http://localhost:11434/api/chat\"\n",
    "#     payload = {\n",
    "#         \"model\": model,\n",
    "#         \"messages\": [\n",
    "#             {\"role\": \"system\", \"content\": \"You are an expert on ANZSCO occupations.\"},\n",
    "#             {\"role\": \"user\", \"content\": prompt}\n",
    "#         ],\n",
    "#         \"stream\": False   # 👈 important\n",
    "#     }\n",
    "#     response = requests.post(url, json=payload)\n",
    "#     response.raise_for_status()\n",
    "#     data = response.json()\n",
    "#     return data[\"message\"][\"content\"]\n",
    "\n",
    "# # Example usage\n",
    "# answer = ollama_chat(\"Tell me about Human Resource Clerks\")\n",
    "# print(answer)\n"
   ]
  },
  {
   "cell_type": "code",
   "execution_count": null,
   "id": "8464e5d8",
   "metadata": {},
   "outputs": [],
   "source": [
    "import requests, json\n",
    "\n",
    "# method 2: Handle streaming properly\n",
    "def ollama_chat_stream(prompt: str, model: str = \"llama3\"):\n",
    "    url = \"http://localhost:11434/api/chat\"\n",
    "    payload = {\n",
    "        \"model\": model,\n",
    "        \"messages\": [\n",
    "            {\"role\": \"system\", \"content\": \"You are an expert on ANZSCO occupations.\"},\n",
    "            {\"role\": \"user\", \"content\": prompt}\n",
    "        ],\n",
    "        \"stream\": True\n",
    "    }\n",
    "    with requests.post(url, json=payload, stream=True) as r:\n",
    "        r.raise_for_status()\n",
    "        for line in r.iter_lines():\n",
    "            if line:\n",
    "                data = json.loads(line.decode(\"utf-8\"))\n",
    "                if \"message\" in data and \"content\" in data[\"message\"]:\n",
    "                    yield data[\"message\"][\"content\"]\n",
    "\n"
   ]
  },
  {
   "cell_type": "code",
   "execution_count": 34,
   "id": "aa1955dc",
   "metadata": {},
   "outputs": [
    {
     "name": "stdout",
     "output_type": "stream",
     "text": [
      "According to the Australian and New Zealand Standard Classification of Occupations (ANZSCO), Human Resource Clerks are classified under the occupation code 132211.\n",
      "\n",
      "Here's a summary of the job description, duties, and requirements:\n",
      "\n",
      "**Job Description:**\n",
      "\n",
      "Human Resource Clerks perform routine administrative tasks in support of human resources functions. They may work in various settings such as private companies, government agencies, or not-for-profit organizations.\n",
      "\n",
      "**Key Duties:**\n",
      "\n",
      "1. Perform general administrative tasks, such as answering phone calls, responding to emails, and maintaining records.\n",
      "2. Assist with recruitment processes by posting job ads, screening resumes, and scheduling interviews.\n",
      "3. Maintain accurate and up-to-date personnel records, including employee information, training records, and performance evaluations.\n",
      "4. Handle benefits administration, such as processing employee insurance claims or managing employee leave.\n",
      "5. Coordinate internal communications, meetings, and events.\n",
      "6. Provide general guidance to employees on company policies, procedures, and programs.\n",
      "7. Assist with payroll preparation, including ensuring accurate and timely payment of wages.\n",
      "\n",
      "**Requirements:**\n",
      "\n",
      "1. Completion of a VET qualification in Human Resources or a related field (such as Certificate III in Business Administration or Diploma of Human Resource Management).\n",
      "2. Strong communication and interpersonal skills.\n",
      "3. Ability to work accurately and efficiently in a fast-paced environment.\n",
      "4. Basic computer skills, including proficiency in Microsoft Office applications.\n",
      "5. Attention to detail and organizational skills.\n",
      "\n",
      "**Work Environment:**\n",
      "\n",
      "Human Resource Clerks typically work in an office setting, often as part of a larger human resources team. They may also work remotely or in a call center environment.\n",
      "\n",
      "**Salary Range:**\n",
      "\n",
      "According to the Australian Government's JobOutlook, the median salary for Human Resource Clerks in Australia is around $43,000 per year (full-time). However, salaries can vary depending on factors such as location, industry, and level of experience.\n",
      "\n",
      "I hope that helps! Let me know if you have any further questions."
     ]
    }
   ],
   "source": [
    "\n",
    "# Example usage\n",
    "for token in ollama_chat_stream(\"Tell me about Human Resource Clerks\"):\n",
    "    print(token, end=\"\", flush=True)"
   ]
  },
  {
   "cell_type": "code",
   "execution_count": null,
   "id": "6fe6f468",
   "metadata": {},
   "outputs": [],
   "source": [
    "# Save the FAISS index to disk\n",
    "os.makedirs(\"./faiss_db\", exist_ok=True)\n",
    "faiss.write_index(index, \"./faiss_db/faiss_index.bin\")\n"
   ]
  },
  {
   "cell_type": "code",
   "execution_count": null,
   "id": "e6f4ee8c",
   "metadata": {},
   "outputs": [],
   "source": [
    "# Load the FAISS index from disk\n",
    "loaded_index = faiss.read_index(\"./faiss_db/faiss_index.bin\")"
   ]
  },
  {
   "cell_type": "code",
   "execution_count": null,
   "id": "a66cd802",
   "metadata": {},
   "outputs": [],
   "source": []
  }
 ],
 "metadata": {
  "kernelspec": {
   "display_name": ".venv",
   "language": "python",
   "name": "python3"
  },
  "language_info": {
   "codemirror_mode": {
    "name": "ipython",
    "version": 3
   },
   "file_extension": ".py",
   "mimetype": "text/x-python",
   "name": "python",
   "nbconvert_exporter": "python",
   "pygments_lexer": "ipython3",
   "version": "3.9.12"
  }
 },
 "nbformat": 4,
 "nbformat_minor": 5
}
