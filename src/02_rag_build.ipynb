{
 "cells": [
  {
   "cell_type": "code",
   "execution_count": 1,
   "id": "bbd01574",
   "metadata": {},
   "outputs": [],
   "source": [
    "import faiss, json, os, numpy as np, pandas as pd\n",
    "from utils.rag_utils import get_ollama_embedding"
   ]
  },
  {
   "cell_type": "code",
   "execution_count": 2,
   "id": "c3f48d24",
   "metadata": {},
   "outputs": [],
   "source": [
    "# Load the ANZSCO data\n",
    "df = pd.read_csv(\"../data/anzsco_full.csv\")"
   ]
  },
  {
   "cell_type": "code",
   "execution_count": 3,
   "id": "2ecfd2f5",
   "metadata": {},
   "outputs": [],
   "source": [
    "# rename column to 'text' for splitting\n",
    "df.rename(columns={'occupation_name': 'Occupation Name', \n",
    "                   'occupation_code':'Occupation Code',\n",
    "                   'skill_level':'Skill Level',\n",
    "                   'tasks':'Tasks',\n",
    "                   'path':'Path'\n",
    "                   }, inplace=True)"
   ]
  },
  {
   "cell_type": "code",
   "execution_count": 4,
   "id": "725d2087",
   "metadata": {},
   "outputs": [],
   "source": [
    "# Create text representation for each occupation\n",
    "df[\"doc_text\"] = (\n",
    "    df[\"Occupation Name\"].fillna(\"\") + \"\\n\"\n",
    "    + df[\"Skill Level\"].fillna(\"\") + \"\\n\"\n",
    "    + df[\"Tasks\"].fillna(\"\") + \"\\n\"\n",
    "    + \"Path: \" + df[\"Path\"].fillna(\"\") + \"\\n\"\n",
    "    + \"In shortage: \" + df[\"National Shortage Rating\"].fillna(\"\")\n",
    ")\n"
   ]
  },
  {
   "cell_type": "code",
   "execution_count": 5,
   "id": "0b85a97a",
   "metadata": {},
   "outputs": [],
   "source": [
    "#df[\"doc_text\"].iloc[10]"
   ]
  },
  {
   "cell_type": "code",
   "execution_count": 6,
   "id": "590d3efd",
   "metadata": {},
   "outputs": [],
   "source": [
    "# Build embeddings with Ollama\n",
    "embeddings = [get_ollama_embedding(doc) for doc in df[\"doc_text\"].tolist()]\n",
    "embeddings = np.array(embeddings).astype(\"float32\")\n"
   ]
  },
  {
   "cell_type": "code",
   "execution_count": 7,
   "id": "819063a8",
   "metadata": {},
   "outputs": [],
   "source": [
    "# Ensure the directory exists\n",
    "os.makedirs(\"../db\", exist_ok=True)\n",
    "\n",
    "# Save embeddings\n",
    "np.save(\"../db/anzsco_embeddings.npy\", embeddings)"
   ]
  },
  {
   "cell_type": "code",
   "execution_count": 8,
   "id": "f93b104a",
   "metadata": {},
   "outputs": [],
   "source": [
    "# Build FAISS index\n",
    "dim = embeddings.shape[1]\n",
    "index = faiss.IndexFlatL2(dim)\n",
    "index.add(embeddings)\n",
    "\n",
    "# Save FAISS index\n",
    "faiss.write_index(index, \"../db/anzsco.index\")"
   ]
  },
  {
   "cell_type": "code",
   "execution_count": 9,
   "id": "6fec740e",
   "metadata": {},
   "outputs": [],
   "source": [
    "# Save metadata\n",
    "with open(\"../db/anzsco_meta.json\", \"w\", encoding=\"utf-8\") as f:\n",
    "    json.dump(df.to_dict(orient=\"records\"), f, ensure_ascii=False, indent=2)\n"
   ]
  },
  {
   "cell_type": "code",
   "execution_count": null,
   "id": "27ccb304",
   "metadata": {},
   "outputs": [],
   "source": []
  }
 ],
 "metadata": {
  "kernelspec": {
   "display_name": ".venv",
   "language": "python",
   "name": "python3"
  },
  "language_info": {
   "codemirror_mode": {
    "name": "ipython",
    "version": 3
   },
   "file_extension": ".py",
   "mimetype": "text/x-python",
   "name": "python",
   "nbconvert_exporter": "python",
   "pygments_lexer": "ipython3",
   "version": "3.9.12"
  }
 },
 "nbformat": 4,
 "nbformat_minor": 5
}
